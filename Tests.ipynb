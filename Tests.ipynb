{
 "cells": [
  {
   "cell_type": "code",
   "execution_count": 21,
   "id": "5c127dc9-f6be-473f-9dbe-000ac542fef4",
   "metadata": {},
   "outputs": [],
   "source": [
    "import simulation\n",
    "from quality_measures import *\n",
    "import numpy as np\n",
    "import matplotlib.pyplot as plt\n",
    "import matplotlib.cm as cm\n",
    "\n",
    "SIMULATION_PARAMETERS = {\n",
    "    \"N_YEARS\": 1,\n",
    "    \"N_USERS_START\": 1000,\n",
    "    \"N_NEW_USERS_PER_YEAR\": 50,\n",
    "    \"P_USER_EXITS_PER_YEAR\": 0.1,\n",
    "    \"N_CONTENT_PER_USER_PER_YEAR\": 1,\n",
    "    \"N_REVIEWS_PER_USER_PER_YEAR\": 3,\n",
    "    \"N_REVIEW_SCORES_PER_USER_PER_YEAR\": 10\n",
    "}"
   ]
  },
  {
   "cell_type": "code",
   "execution_count": null,
   "id": "88919bd8-f5cc-4593-8c06-e96326714d50",
   "metadata": {},
   "outputs": [],
   "source": [
    "measures = [SimpleMean(), SimpleMeanThresholdedReviewers(50), SimpleMeanThresholdedReviewers(80), BayesWeightingOracle()]\n",
    "measures.append(BayesWeightingMeasureEstimate(measures[2], 0.1, 0.1))\n",
    "measures.append(BayesWeightingMeasureEstimate(measures[2], 0.1, 0.1, threshold_percentile=20))\n",
    "measure_performances = [[] for measure in measures]\n",
    "\n",
    "commitment_resolution = 0.05\n",
    "N_TRIALS = 10\n",
    "\n",
    "for trial_i in range(N_TRIALS):\n",
    "    platform = simulation.run(SIMULATION_PARAMETERS=SIMULATION_PARAMETERS)\n",
    "    for measure_i, measure in enumerate(measures):\n",
    "        measure.calculate_estimates(platform)\n",
    "        measure_performances[measure_i].append(measure.evaluate_performance(platform, commitment_resolution=commitment_resolution))"
   ]
  },
  {
   "cell_type": "code",
   "execution_count": null,
   "id": "26995de2-bfed-4b3c-b3ff-74634e3649e5",
   "metadata": {},
   "outputs": [],
   "source": [
    "import numpy as np\n",
    "import matplotlib.pyplot as plt\n",
    "from matplotlib import cm\n",
    "\n",
    "measure_colors = cm.hsv(np.linspace(0, .9, len(measures)))\n",
    "\n",
    "fig, ax1 = plt.subplots(1, 1, figsize=(4, 4))\n",
    "plt.rcParams.update({'font.family': 'Arial', 'font.size': 16})\n",
    "\n",
    "for measure_i, measure in enumerate(measures):\n",
    "    # Find the maximum length of the trials for the current measure\n",
    "    max_length = max(len(measure_performances[measure_i][trial_i][2]) for trial_i in range(N_TRIALS))\n",
    "    \n",
    "    # Create arrays to store the interpolated data for each trial\n",
    "    interpolated_x = np.zeros((N_TRIALS, max_length))\n",
    "    interpolated_y = np.zeros((N_TRIALS, max_length))\n",
    "    interpolated_x[:] = np.nan\n",
    "    interpolated_y[:] = np.nan\n",
    "    \n",
    "    for trial_i in range(N_TRIALS):\n",
    "        # Interpolate the data to match the maximum length\n",
    "        x = measure_performances[measure_i][trial_i][2]\n",
    "        y = measure_performances[measure_i][trial_i][3]\n",
    "        interpolated_x[trial_i, :len(x)] = x\n",
    "        interpolated_y[trial_i, :len(x)] = y\n",
    "    \n",
    "    # Calculate the mean and standard deviation across trials\n",
    "    mean_performance = np.mean(interpolated_y, axis=0)\n",
    "    std_performance = np.std(interpolated_y, axis=0)\n",
    "    \n",
    "    # Plot the mean performance with a shaded region representing the standard deviation\n",
    "    x_values = np.mean(interpolated_x, axis=0)\n",
    "    ax1.plot(x_values, mean_performance, \"-\", lw=4, color=measure_colors[measure_i], label=measure.name)\n",
    "    ax1.fill_between(x_values, mean_performance - std_performance, mean_performance + std_performance,\n",
    "                     color=measure_colors[measure_i], alpha=0.3)\n",
    "\n",
    "ax1.set_xlim(0, 1)\n",
    "ax1.set_ylim(.5, 1)\n",
    "ax1.set_xlabel(\"commitment\")\n",
    "ax1.set_ylabel(\"correlation\")\n",
    "ax1.legend(loc='center left', bbox_to_anchor=(1, 0.5))\n",
    "\n",
    "\n",
    "plt.show()"
   ]
  },
  {
   "cell_type": "code",
   "execution_count": null,
   "id": "5beb4deb-3938-4ace-a284-6263f70ac0e7",
   "metadata": {},
   "outputs": [],
   "source": []
  }
 ],
 "metadata": {
  "kernelspec": {
   "display_name": "Python 3 (ipykernel)",
   "language": "python",
   "name": "python3"
  },
  "language_info": {
   "codemirror_mode": {
    "name": "ipython",
    "version": 3
   },
   "file_extension": ".py",
   "mimetype": "text/x-python",
   "name": "python",
   "nbconvert_exporter": "python",
   "pygments_lexer": "ipython3",
   "version": "3.9.7"
  }
 },
 "nbformat": 4,
 "nbformat_minor": 5
}
